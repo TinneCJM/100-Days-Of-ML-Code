{
  "nbformat": 4,
  "nbformat_minor": 0,
  "metadata": {
    "colab": {
      "provenance": [],
      "authorship_tag": "ABX9TyMkFounDKj8a2Vyh1mlL+JG",
      "include_colab_link": true
    },
    "kernelspec": {
      "name": "python3",
      "display_name": "Python 3"
    },
    "language_info": {
      "name": "python"
    }
  },
  "cells": [
    {
      "cell_type": "markdown",
      "metadata": {
        "id": "view-in-github",
        "colab_type": "text"
      },
      "source": [
        "<a href=\"https://colab.research.google.com/github/TinneCJM/100-Days-Of-ML-Code/blob/master/load_data.ipynb\" target=\"_parent\"><img src=\"https://colab.research.google.com/assets/colab-badge.svg\" alt=\"Open In Colab\"/></a>"
      ]
    },
    {
      "cell_type": "code",
      "execution_count": null,
      "metadata": {
        "id": "vBvwZs9FEevg"
      },
      "outputs": [],
      "source": [
        "import pandas as pd\n",
        "import os\n",
        "\n",
        "# Create an empty DataFrame to store the combined data\n",
        "combined_df = pd.DataFrame()\n",
        "\n",
        "# Specify the directory containing your CSV files\n",
        "directory = '/data/input/'\n",
        "\n",
        "# Loop through all files in the directory with a .csv extension\n",
        "for filename in os.listdir(directory):\n",
        "    if filename.endswith('.csv'):\n",
        "        # Read the CSV file into a DataFrame\n",
        "        file_path = os.path.join(directory, filename)\n",
        "        df = pd.read_csv(file_path)\n",
        "\n",
        "        # Add a new column with the filename\n",
        "        df['filename'] = filename\n",
        "\n",
        "        # Append the DataFrame to the combined DataFrame\n",
        "        combined_df = combined_df.append(df, ignore_index=True)\n",
        "\n",
        "# Display the combined DataFrame\n",
        "print(combined_df)"
      ]
    }
  ]
}